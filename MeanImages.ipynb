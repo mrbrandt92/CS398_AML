{
 "cells": [
  {
   "cell_type": "code",
   "execution_count": 1,
   "metadata": {},
   "outputs": [
    {
     "name": "stderr",
     "output_type": "stream",
     "text": [
      "Using TensorFlow backend.\n"
     ]
    }
   ],
   "source": [
    "from keras.datasets import cifar10\n",
    "from keras.utils import np_utils\n",
    "from keras.models import Sequential\n",
    "from keras.layers.core import Dense, Dropout, Activation, Flatten\n",
    "from keras.layers.convolutional import Conv2D, MaxPooling2D\n",
    "from keras.optimizers import SGD, Adam, RMSprop\n",
    "import matplotlib.pyplot as plt\n",
    "from scipy.misc import toimage\n",
    "import numpy as np\n",
    "import pandas as pd\n",
    "%matplotlib inline"
   ]
  },
  {
   "cell_type": "code",
   "execution_count": 2,
   "metadata": {
    "collapsed": true
   },
   "outputs": [],
   "source": [
    "## Loading data\n",
    "(X_train, y_train), (X_test, y_test) = cifar10.load_data()"
   ]
  },
  {
   "cell_type": "code",
   "execution_count": 3,
   "metadata": {},
   "outputs": [
    {
     "name": "stdout",
     "output_type": "stream",
     "text": [
      "(60000, 32, 32, 3)\n"
     ]
    }
   ],
   "source": [
    "X = np.concatenate([X_train, X_test], axis=0)\n",
    "y = np.concatenate([y_train, y_test], axis=0)\n",
    "\n",
    "print(X.shape)"
   ]
  },
  {
   "cell_type": "code",
   "execution_count": 4,
   "metadata": {
    "collapsed": true
   },
   "outputs": [],
   "source": [
    "y = np_utils.to_categorical(y, 10)"
   ]
  },
  {
   "cell_type": "code",
   "execution_count": 5,
   "metadata": {
    "collapsed": true
   },
   "outputs": [],
   "source": [
    "# Normalization and conversion to float\n",
    "X = X.astype('float32')\n",
    "#X /= 255"
   ]
  },
  {
   "cell_type": "code",
   "execution_count": 44,
   "metadata": {
    "collapsed": true
   },
   "outputs": [],
   "source": [
    "def get_class(y, class_num=False):\n",
    "    global classes\n",
    "    classes = ['airplane', 'automobile', 'bird', 'cat', 'deer', 'dog', 'frog', 'horse', 'ship', 'truck']\n",
    "    hot_list = [int(np.flatnonzero(y==1)) for y in y]\n",
    "    if class_num:\n",
    "        return([hot for hot in hot_list])\n",
    "    else:\n",
    "        return([classes[hot] for hot in hot_list])\n",
    "\n",
    "y_class = get_class(y)\n",
    "y_label = get_class(y = y, class_num=True)"
   ]
  },
  {
   "cell_type": "code",
   "execution_count": 7,
   "metadata": {},
   "outputs": [
    {
     "name": "stdout",
     "output_type": "stream",
     "text": [
      "automobile\n"
     ]
    },
    {
     "data": {
      "text/plain": [
       "<matplotlib.image.AxesImage at 0x1825dae710>"
      ]
     },
     "execution_count": 7,
     "metadata": {},
     "output_type": "execute_result"
    },
    {
     "data": {
      "image/png": "[encoded data removed]",
      "text/plain": [
       "<matplotlib.figure.Figure at 0x10b6902b0>"
      ]
     },
     "metadata": {},
     "output_type": "display_data"
    }
   ],
   "source": [
    "idx = 4\n",
    "img = X[idx]\n",
    "print(y_class[idx])\n",
    "plt.imshow(toimage(img))"
   ]
  },
  {
   "cell_type": "code",
   "execution_count": 8,
   "metadata": {
    "collapsed": true
   },
   "outputs": [],
   "source": [
    "def get_images(class_label, X=X, y=y_class):\n",
    "    idx = [i for i, x in enumerate(y_class) if x == class_label]\n",
    "    return(X[idx])\n",
    "\n",
    "airplane_imgs = get_images('airplane')\n",
    "automobile_imgs = get_images('automobile')\n",
    "bird_imgs = get_images('bird')\n",
    "cat_imgs = get_images('cat')\n",
    "dog_imgs = get_images('dog')\n",
    "deer_imgs = get_images('deer')\n",
    "frog_imgs = get_images('frog')\n",
    "horse_imgs = get_images('horse')\n",
    "ship_imgs = get_images('ship')\n",
    "truck_imgs = get_images('truck')"
   ]
  },
  {
   "cell_type": "code",
   "execution_count": 9,
   "metadata": {},
   "outputs": [
    {
     "data": {
      "text/plain": [
       "(6000, 32, 32, 3)"
      ]
     },
     "execution_count": 9,
     "metadata": {},
     "output_type": "execute_result"
    }
   ],
   "source": [
    "dog_imgs.shape"
   ]
  },
  {
   "cell_type": "code",
   "execution_count": 10,
   "metadata": {},
   "outputs": [
    {
     "data": {
      "text/plain": [
       "<matplotlib.image.AxesImage at 0x1825dc9cf8>"
      ]
     },
     "execution_count": 10,
     "metadata": {},
     "output_type": "execute_result"
    },
    {
     "data": {
      "image/png": "[encoded data removed]",
      "text/plain": [
       "<matplotlib.figure.Figure at 0x182e0e9a58>"
      ]
     },
     "metadata": {},
     "output_type": "display_data"
    }
   ],
   "source": [
    "plt.imshow(toimage(bird_imgs[1]))"
   ]
  },
  {
   "cell_type": "code",
   "execution_count": 11,
   "metadata": {},
   "outputs": [
    {
     "data": {
      "text/plain": [
       "<matplotlib.image.AxesImage at 0x182e21a828>"
      ]
     },
     "execution_count": 11,
     "metadata": {},
     "output_type": "execute_result"
    },
    {
     "data": {
      "image/png": "[encoded data removed]",
      "text/plain": [
       "<matplotlib.figure.Figure at 0x1825da1cc0>"
      ]
     },
     "metadata": {},
     "output_type": "display_data"
    }
   ],
   "source": [
    "## Plot the mean image for each category\n",
    "mean_airplane_img = np.mean(airplane_imgs, 0)\n",
    "mean_automobile_img = np.mean(automobile_imgs, 0)\n",
    "mean_bird_img = np.mean(bird_imgs, 0)\n",
    "mean_cat_img = np.mean(cat_imgs, 0)\n",
    "mean_dog_img = np.mean(dog_imgs, 0)\n",
    "mean_deer_img = np.mean(deer_imgs, 0)\n",
    "mean_frog_img = np.mean(frog_imgs, 0)\n",
    "mean_horse_img = np.mean(horse_imgs, 0)\n",
    "mean_ship_img = np.mean(ship_imgs, 0)\n",
    "mean_truck_img = np.mean(truck_imgs, 0)\n",
    "\n",
    "plt.imshow(toimage(mean_horse_img))"
   ]
  },
  {
   "cell_type": "code",
   "execution_count": 12,
   "metadata": {
    "collapsed": true
   },
   "outputs": [],
   "source": [
    "import math"
   ]
  },
  {
   "cell_type": "code",
   "execution_count": 48,
   "metadata": {},
   "outputs": [
    {
     "name": "stderr",
     "output_type": "stream",
     "text": [
      "/Users/mallorybrandt/anaconda3/lib/python3.6/site-packages/ipykernel_launcher.py:2: DeprecationWarning: Non-string object detected for the array ordering. Please pass in 'C', 'F', 'A', or 'K' instead\n",
      "  \n",
      "/Users/mallorybrandt/anaconda3/lib/python3.6/site-packages/ipykernel_launcher.py:4: DeprecationWarning: Non-string object detected for the array ordering. Please pass in 'C', 'F', 'A', or 'K' instead\n",
      "  after removing the cwd from sys.path.\n",
      "/Users/mallorybrandt/anaconda3/lib/python3.6/site-packages/ipykernel_launcher.py:6: DeprecationWarning: Non-string object detected for the array ordering. Please pass in 'C', 'F', 'A', or 'K' instead\n",
      "  \n",
      "/Users/mallorybrandt/anaconda3/lib/python3.6/site-packages/ipykernel_launcher.py:8: DeprecationWarning: Non-string object detected for the array ordering. Please pass in 'C', 'F', 'A', or 'K' instead\n",
      "  \n",
      "/Users/mallorybrandt/anaconda3/lib/python3.6/site-packages/ipykernel_launcher.py:10: DeprecationWarning: Non-string object detected for the array ordering. Please pass in 'C', 'F', 'A', or 'K' instead\n",
      "  # Remove the CWD from sys.path while we load stuff.\n",
      "/Users/mallorybrandt/anaconda3/lib/python3.6/site-packages/ipykernel_launcher.py:12: DeprecationWarning: Non-string object detected for the array ordering. Please pass in 'C', 'F', 'A', or 'K' instead\n",
      "  if sys.path[0] == '':\n",
      "/Users/mallorybrandt/anaconda3/lib/python3.6/site-packages/ipykernel_launcher.py:14: DeprecationWarning: Non-string object detected for the array ordering. Please pass in 'C', 'F', 'A', or 'K' instead\n",
      "  \n",
      "/Users/mallorybrandt/anaconda3/lib/python3.6/site-packages/ipykernel_launcher.py:16: DeprecationWarning: Non-string object detected for the array ordering. Please pass in 'C', 'F', 'A', or 'K' instead\n",
      "  app.launch_new_instance()\n",
      "/Users/mallorybrandt/anaconda3/lib/python3.6/site-packages/ipykernel_launcher.py:18: DeprecationWarning: Non-string object detected for the array ordering. Please pass in 'C', 'F', 'A', or 'K' instead\n",
      "/Users/mallorybrandt/anaconda3/lib/python3.6/site-packages/ipykernel_launcher.py:20: DeprecationWarning: Non-string object detected for the array ordering. Please pass in 'C', 'F', 'A', or 'K' instead\n"
     ]
    }
   ],
   "source": [
    "categories = []\n",
    "air = mean_airplane_img.flatten(all)\n",
    "categories.append(air)\n",
    "auto = mean_automobile_img.flatten(all)\n",
    "categories.append(auto)\n",
    "bird = mean_bird_img.flatten(all)\n",
    "categories.append(bird)\n",
    "cat = mean_cat_img.flatten(all)\n",
    "categories.append(cat)\n",
    "dog = mean_dog_img.flatten(all)\n",
    "categories.append(dog)\n",
    "deer = mean_deer_img.flatten(all)\n",
    "categories.append(deer)\n",
    "frog = mean_frog_img.flatten(all)\n",
    "categories.append(frog)\n",
    "horse = mean_horse_img.flatten(all)\n",
    "categories.append(horse)\n",
    "ship = mean_ship_img.flatten(all)\n",
    "categories.append(ship)\n",
    "truck = mean_truck_img.flatten(all)\n",
    "categories.append(truck)"
   ]
  },
  {
   "cell_type": "code",
   "execution_count": 83,
   "metadata": {},
   "outputs": [],
   "source": [
    "dfcat = pd.DataFrame(categories)"
   ]
  },
  {
   "cell_type": "code",
   "execution_count": 84,
   "metadata": {},
   "outputs": [],
   "source": [
    "from sklearn import manifold\n",
    "from sklearn.manifold import MDS\n",
    "from sklearn.manifold import Isomap"
   ]
  },
  {
   "cell_type": "code",
   "execution_count": 85,
   "metadata": {},
   "outputs": [],
   "source": [
    "from sklearn.metrics import euclidean_distances\n",
    "similarities = euclidean_distances(dfcat)"
   ]
  },
  {
   "cell_type": "code",
   "execution_count": 118,
   "metadata": {},
   "outputs": [],
   "source": [
    "mds = MDS(n_components=10, n_init=100, max_iter=3000, random_state=200)\n",
    "manifold2D = mds.fit_transform(dfcat)\n",
    "df2 = pd.DataFrame(similarities)"
   ]
  },
  {
   "cell_type": "code",
   "execution_count": 119,
   "metadata": {},
   "outputs": [],
   "source": [
    "embed2d = mds.fit(dfcat).embedding_"
   ]
  },
  {
   "cell_type": "code",
   "execution_count": 120,
   "metadata": {},
   "outputs": [
    {
     "data": {
      "image/png": "[encoded data removed]",
      "text/plain": [
       "<matplotlib.figure.Figure at 0x183050f908>"
      ]
     },
     "metadata": {},
     "output_type": "display_data"
    }
   ],
   "source": [
    "fig = plt.figure(figsize=(20,5))\n",
    "subpl2 = fig.add_subplot(133)\n",
    "subpl2.set_autoscaley_on(False)\n",
    "subpl2.scatter(embed2d[:, 0], embed2d[:, 1],s=20)\n",
    "plt.title('2D Multidim. Scaling Embedding')\n",
    "plt.axis('tight')\n",
    "embed2dLabels = pd.DataFrame(embed2d)\n",
    "embed2dLabels['labels'] = classes\n",
    "\n",
    "for label,x,y in zip(classes, embed2d[:, 0], embed2d[:, 1]):\n",
    "    plt.annotate(label, xy = (x, y))\n",
    "plt.show()"
   ]
  },
  {
   "cell_type": "code",
   "execution_count": 77,
   "metadata": {},
   "outputs": [
    {
     "data": {
      "text/plain": [
       "['airplane',\n",
       " 'automobile',\n",
       " 'bird',\n",
       " 'cat',\n",
       " 'deer',\n",
       " 'dog',\n",
       " 'frog',\n",
       " 'horse',\n",
       " 'ship',\n",
       " 'truck']"
      ]
     },
     "execution_count": 77,
     "metadata": {},
     "output_type": "execute_result"
    }
   ],
   "source": [
    "classes"
   ]
  },
  {
   "cell_type": "code",
   "execution_count": 78,
   "metadata": {},
   "outputs": [
    {
     "data": {
      "text/html": [
       "<div>\n",
       "<style>\n",
       "    .dataframe thead tr:only-child th {\n",
       "        text-align: right;\n",
       "    }\n",
       "\n",
       "    .dataframe thead th {\n",
       "        text-align: left;\n",
       "    }\n",
       "\n",
       "    .dataframe tbody tr th {\n",
       "        vertical-align: top;\n",
       "    }\n",
       "</style>\n",
       "<table border=\"1\" class=\"dataframe\">\n",
       "  <thead>\n",
       "    <tr style=\"text-align: right;\">\n",
       "      <th></th>\n",
       "      <th>0</th>\n",
       "      <th>1</th>\n",
       "      <th>2</th>\n",
       "      <th>3</th>\n",
       "      <th>4</th>\n",
       "      <th>5</th>\n",
       "      <th>6</th>\n",
       "      <th>7</th>\n",
       "      <th>8</th>\n",
       "      <th>9</th>\n",
       "      <th>labels</th>\n",
       "    </tr>\n",
       "  </thead>\n",
       "  <tbody>\n",
       "    <tr>\n",
       "      <th>0</th>\n",
       "      <td>539.386596</td>\n",
       "      <td>-90.073608</td>\n",
       "      <td>-19.328000</td>\n",
       "      <td>-431.632304</td>\n",
       "      <td>251.490691</td>\n",
       "      <td>-143.815383</td>\n",
       "      <td>-840.321578</td>\n",
       "      <td>-747.863621</td>\n",
       "      <td>-466.694992</td>\n",
       "      <td>133.702836</td>\n",
       "      <td>airplane</td>\n",
       "    </tr>\n",
       "    <tr>\n",
       "      <th>1</th>\n",
       "      <td>-21.371512</td>\n",
       "      <td>-104.685582</td>\n",
       "      <td>214.652849</td>\n",
       "      <td>-17.536127</td>\n",
       "      <td>-422.480321</td>\n",
       "      <td>-207.612570</td>\n",
       "      <td>20.042228</td>\n",
       "      <td>259.866900</td>\n",
       "      <td>-187.544592</td>\n",
       "      <td>57.956939</td>\n",
       "      <td>automobile</td>\n",
       "    </tr>\n",
       "    <tr>\n",
       "      <th>2</th>\n",
       "      <td>3.391606</td>\n",
       "      <td>14.466989</td>\n",
       "      <td>-12.262364</td>\n",
       "      <td>-2.568275</td>\n",
       "      <td>216.587096</td>\n",
       "      <td>-16.797991</td>\n",
       "      <td>247.856599</td>\n",
       "      <td>-45.248967</td>\n",
       "      <td>166.472428</td>\n",
       "      <td>43.092925</td>\n",
       "      <td>bird</td>\n",
       "    </tr>\n",
       "    <tr>\n",
       "      <th>3</th>\n",
       "      <td>-136.674041</td>\n",
       "      <td>52.654661</td>\n",
       "      <td>-206.740319</td>\n",
       "      <td>110.410037</td>\n",
       "      <td>215.136015</td>\n",
       "      <td>217.915582</td>\n",
       "      <td>388.778982</td>\n",
       "      <td>181.814698</td>\n",
       "      <td>20.603625</td>\n",
       "      <td>-177.199174</td>\n",
       "      <td>cat</td>\n",
       "    </tr>\n",
       "    <tr>\n",
       "      <th>4</th>\n",
       "      <td>-227.647973</td>\n",
       "      <td>136.554098</td>\n",
       "      <td>-91.638187</td>\n",
       "      <td>171.989842</td>\n",
       "      <td>263.805382</td>\n",
       "      <td>508.086631</td>\n",
       "      <td>441.404938</td>\n",
       "      <td>22.899633</td>\n",
       "      <td>-68.851336</td>\n",
       "      <td>-52.978002</td>\n",
       "      <td>deer</td>\n",
       "    </tr>\n",
       "    <tr>\n",
       "      <th>5</th>\n",
       "      <td>-329.163942</td>\n",
       "      <td>-30.991834</td>\n",
       "      <td>-192.689210</td>\n",
       "      <td>102.344424</td>\n",
       "      <td>181.651393</td>\n",
       "      <td>154.230783</td>\n",
       "      <td>563.229109</td>\n",
       "      <td>195.861470</td>\n",
       "      <td>299.665497</td>\n",
       "      <td>71.909860</td>\n",
       "      <td>dog</td>\n",
       "    </tr>\n",
       "    <tr>\n",
       "      <th>6</th>\n",
       "      <td>-400.740896</td>\n",
       "      <td>-46.690826</td>\n",
       "      <td>-135.168494</td>\n",
       "      <td>340.482810</td>\n",
       "      <td>93.505836</td>\n",
       "      <td>162.627101</td>\n",
       "      <td>572.175064</td>\n",
       "      <td>567.950643</td>\n",
       "      <td>282.591993</td>\n",
       "      <td>52.919907</td>\n",
       "      <td>frog</td>\n",
       "    </tr>\n",
       "    <tr>\n",
       "      <th>7</th>\n",
       "      <td>-218.198207</td>\n",
       "      <td>95.122898</td>\n",
       "      <td>-185.042324</td>\n",
       "      <td>80.960802</td>\n",
       "      <td>171.740950</td>\n",
       "      <td>-184.260642</td>\n",
       "      <td>98.224758</td>\n",
       "      <td>-59.206906</td>\n",
       "      <td>210.313062</td>\n",
       "      <td>-122.637122</td>\n",
       "      <td>horse</td>\n",
       "    </tr>\n",
       "    <tr>\n",
       "      <th>8</th>\n",
       "      <td>547.571232</td>\n",
       "      <td>-225.240127</td>\n",
       "      <td>462.326843</td>\n",
       "      <td>-204.751717</td>\n",
       "      <td>-395.598144</td>\n",
       "      <td>35.197068</td>\n",
       "      <td>-778.191219</td>\n",
       "      <td>-485.852821</td>\n",
       "      <td>-258.841817</td>\n",
       "      <td>-33.890947</td>\n",
       "      <td>ship</td>\n",
       "    </tr>\n",
       "    <tr>\n",
       "      <th>9</th>\n",
       "      <td>243.447138</td>\n",
       "      <td>198.883330</td>\n",
       "      <td>165.889207</td>\n",
       "      <td>-149.699492</td>\n",
       "      <td>-575.838899</td>\n",
       "      <td>-525.570580</td>\n",
       "      <td>-713.198880</td>\n",
       "      <td>109.778974</td>\n",
       "      <td>2.286132</td>\n",
       "      <td>27.122779</td>\n",
       "      <td>truck</td>\n",
       "    </tr>\n",
       "  </tbody>\n",
       "</table>\n",
       "</div>"
      ],
      "text/plain": [
       "            0           1           2           3           4           5  \\\n",
       "0  539.386596  -90.073608  -19.328000 -431.632304  251.490691 -143.815383   \n",
       "1  -21.371512 -104.685582  214.652849  -17.536127 -422.480321 -207.612570   \n",
       "2    3.391606   14.466989  -12.262364   -2.568275  216.587096  -16.797991   \n",
       "3 -136.674041   52.654661 -206.740319  110.410037  215.136015  217.915582   \n",
       "4 -227.647973  136.554098  -91.638187  171.989842  263.805382  508.086631   \n",
       "5 -329.163942  -30.991834 -192.689210  102.344424  181.651393  154.230783   \n",
       "6 -400.740896  -46.690826 -135.168494  340.482810   93.505836  162.627101   \n",
       "7 -218.198207   95.122898 -185.042324   80.960802  171.740950 -184.260642   \n",
       "8  547.571232 -225.240127  462.326843 -204.751717 -395.598144   35.197068   \n",
       "9  243.447138  198.883330  165.889207 -149.699492 -575.838899 -525.570580   \n",
       "\n",
       "            6           7           8           9      labels  \n",
       "0 -840.321578 -747.863621 -466.694992  133.702836    airplane  \n",
       "1   20.042228  259.866900 -187.544592   57.956939  automobile  \n",
       "2  247.856599  -45.248967  166.472428   43.092925        bird  \n",
       "3  388.778982  181.814698   20.603625 -177.199174         cat  \n",
       "4  441.404938   22.899633  -68.851336  -52.978002        deer  \n",
       "5  563.229109  195.861470  299.665497   71.909860         dog  \n",
       "6  572.175064  567.950643  282.591993   52.919907        frog  \n",
       "7   98.224758  -59.206906  210.313062 -122.637122       horse  \n",
       "8 -778.191219 -485.852821 -258.841817  -33.890947        ship  \n",
       "9 -713.198880  109.778974    2.286132   27.122779       truck  "
      ]
     },
     "execution_count": 78,
     "metadata": {},
     "output_type": "execute_result"
    }
   ],
   "source": [
    "embed2dLabels"
   ]
  },
  {
   "cell_type": "code",
   "execution_count": null,
   "metadata": {
    "collapsed": true
   },
   "outputs": [],
   "source": []
  }
 ],
 "metadata": {
  "kernelspec": {
   "display_name": "Python 3",
   "language": "python",
   "name": "python3"
  },
  "language_info": {
   "codemirror_mode": {
    "name": "ipython",
    "version": 3
   },
   "file_extension": ".py",
   "mimetype": "text/x-python",
   "name": "python",
   "nbconvert_exporter": "python",
   "pygments_lexer": "ipython3",
   "version": "3.6.3"
  }
 },
 "nbformat": 4,
 "nbformat_minor": 2
}
