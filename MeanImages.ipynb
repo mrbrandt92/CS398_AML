{
 "cells": [
  {
   "cell_type": "code",
   "execution_count": 1,
   "metadata": {},
   "outputs": [
    {
     "name": "stderr",
     "output_type": "stream",
     "text": [
      "Using TensorFlow backend.\n"
     ]
    }
   ],
   "source": [
    "from keras.datasets import cifar10\n",
    "from keras.utils import np_utils\n",
    "from keras.models import Sequential\n",
    "from keras.layers.core import Dense, Dropout, Activation, Flatten\n",
    "from keras.layers.convolutional import Conv2D, MaxPooling2D\n",
    "from keras.optimizers import SGD, Adam, RMSprop\n",
    "import matplotlib.pyplot as plt\n",
    "from scipy.misc import toimage\n",
    "import numpy as np\n",
    "import pandas as pd\n",
    "%matplotlib inline"
   ]
  },
  {
   "cell_type": "code",
   "execution_count": 2,
   "metadata": {
    "collapsed": true
   },
   "outputs": [],
   "source": [
    "#IMG_CHANNELS = 3\n",
    "#IMG_ROWS = 32\n",
    "#IMG_COLS = 32\n",
    "#NB_CLASSES = 10\n",
    "#VERBOSE = 1\n",
    "#VALIDATION_SPLIT = 0.2"
   ]
  },
  {
   "cell_type": "code",
   "execution_count": 3,
   "metadata": {
    "collapsed": true
   },
   "outputs": [],
   "source": [
    "## Loading data\n",
    "(X_train, y_train), (X_test, y_test) = cifar10.load_data()"
   ]
  },
  {
   "cell_type": "code",
   "execution_count": 4,
   "metadata": {},
   "outputs": [
    {
     "name": "stdout",
     "output_type": "stream",
     "text": [
      "(60000, 32, 32, 3)\n"
     ]
    }
   ],
   "source": [
    "X = np.concatenate([X_train, X_test], axis=0)\n",
    "y = np.concatenate([y_train, y_test], axis=0)\n",
    "\n",
    "print(X.shape)"
   ]
  },
  {
   "cell_type": "code",
   "execution_count": 5,
   "metadata": {
    "collapsed": true
   },
   "outputs": [],
   "source": [
    "y = np_utils.to_categorical(y, 10)"
   ]
  },
  {
   "cell_type": "code",
   "execution_count": 6,
   "metadata": {
    "collapsed": true
   },
   "outputs": [],
   "source": [
    "# Normalization and conversion to float\n",
    "X = X.astype('float32')\n",
    "X /= 255"
   ]
  },
  {
   "cell_type": "code",
   "execution_count": 7,
   "metadata": {
    "collapsed": true
   },
   "outputs": [],
   "source": [
    "def get_class(y, class_num=False):\n",
    "    classes = ['airplane', 'automobile', 'bird', 'cat', 'deer', 'dog', 'frog', 'horse', 'ship', 'truck']\n",
    "    hot_list = [int(np.flatnonzero(y==1)) for y in y]\n",
    "    if class_num:\n",
    "        return([hot for hot in hot_list])\n",
    "    else:\n",
    "        return([classes[hot] for hot in hot_list])\n",
    "\n",
    "y_class = get_class(y)\n",
    "y_label = get_class(y = y, class_num=True)"
   ]
  },
  {
   "cell_type": "code",
   "execution_count": 8,
   "metadata": {},
   "outputs": [
    {
     "name": "stdout",
     "output_type": "stream",
     "text": [
      "automobile\n"
     ]
    },
    {
     "data": {
      "text/plain": [
       "<matplotlib.image.AxesImage at 0x182323a5f8>"
      ]
     },
     "execution_count": 8,
     "metadata": {},
     "output_type": "execute_result"
    },
    {
     "data": {
      "image/png": "[encoded data removed]",
      "text/plain": [
       "<matplotlib.figure.Figure at 0x18160b5e48>"
      ]
     },
     "metadata": {},
     "output_type": "display_data"
    }
   ],
   "source": [
    "idx = 4\n",
    "img = X[idx]\n",
    "print(y_class[idx])\n",
    "plt.imshow(toimage(img))"
   ]
  },
  {
   "cell_type": "code",
   "execution_count": 9,
   "metadata": {
    "collapsed": true
   },
   "outputs": [],
   "source": [
    "def get_images(class_label, X=X, y=y_class):\n",
    "    idx = [i for i, x in enumerate(y_class) if x == class_label]\n",
    "    return(X[idx])\n",
    "\n",
    "airplane_imgs = get_images('airplane')\n",
    "automobile_imgs = get_images('automobile')\n",
    "bird_imgs = get_images('bird')\n",
    "cat_imgs = get_images('cat')\n",
    "dog_imgs = get_images('dog')\n",
    "deer_imgs = get_images('deer')\n",
    "frog_imgs = get_images('frog')\n",
    "horse_imgs = get_images('horse')\n",
    "ship_imgs = get_images('ship')\n",
    "truck_imgs = get_images('truck')"
   ]
  },
  {
   "cell_type": "code",
   "execution_count": 10,
   "metadata": {},
   "outputs": [
    {
     "data": {
      "text/plain": [
       "(6000, 32, 32, 3)"
      ]
     },
     "execution_count": 10,
     "metadata": {},
     "output_type": "execute_result"
    }
   ],
   "source": [
    "dog_imgs.shape"
   ]
  },
  {
   "cell_type": "code",
   "execution_count": 11,
   "metadata": {},
   "outputs": [
    {
     "data": {
      "text/plain": [
       "<matplotlib.image.AxesImage at 0x1823296c88>"
      ]
     },
     "execution_count": 11,
     "metadata": {},
     "output_type": "execute_result"
    },
    {
     "data": {
      "image/png": "[encoded data removed]",
      "text/plain": [
       "<matplotlib.figure.Figure at 0x182b5b34a8>"
      ]
     },
     "metadata": {},
     "output_type": "display_data"
    }
   ],
   "source": [
    "plt.imshow(toimage(bird_imgs[1]))"
   ]
  },
  {
   "cell_type": "code",
   "execution_count": 12,
   "metadata": {},
   "outputs": [
    {
     "data": {
      "text/plain": [
       "<matplotlib.image.AxesImage at 0x182b6e77b8>"
      ]
     },
     "execution_count": 12,
     "metadata": {},
     "output_type": "execute_result"
    },
    {
     "data": {
      "image/png": "[encoded data removed]",
      "text/plain": [
       "<matplotlib.figure.Figure at 0x18232c1c50>"
      ]
     },
     "metadata": {},
     "output_type": "display_data"
    }
   ],
   "source": [
    "## Plot the mean image for each category\n",
    "mean_airplane_img = np.mean(airplane_imgs, 0)\n",
    "mean_automobile_img = np.mean(automobile_imgs, 0)\n",
    "mean_bird_img = np.mean(bird_imgs, 0)\n",
    "mean_cat_img = np.mean(cat_imgs, 0)\n",
    "mean_dog_img = np.mean(dog_imgs, 0)\n",
    "mean_deer_img = np.mean(deer_imgs, 0)\n",
    "mean_frog_img = np.mean(frog_imgs, 0)\n",
    "mean_horse_img = np.mean(horse_imgs, 0)\n",
    "mean_ship_img = np.mean(ship_imgs, 0)\n",
    "mean_truck_img = np.mean(truck_imgs, 0)\n",
    "\n",
    "plt.imshow(toimage(mean_dog_img))"
   ]
  },
  {
   "cell_type": "code",
   "execution_count": 13,
   "metadata": {
    "collapsed": true
   },
   "outputs": [],
   "source": [
    "import math"
   ]
  },
  {
   "cell_type": "code",
   "execution_count": 15,
   "metadata": {},
   "outputs": [
    {
     "name": "stderr",
     "output_type": "stream",
     "text": [
      "/Users/mallorybrandt/anaconda3/lib/python3.6/site-packages/ipykernel_launcher.py:2: DeprecationWarning: Non-string object detected for the array ordering. Please pass in 'C', 'F', 'A', or 'K' instead\n",
      "  \n",
      "/Users/mallorybrandt/anaconda3/lib/python3.6/site-packages/ipykernel_launcher.py:4: DeprecationWarning: Non-string object detected for the array ordering. Please pass in 'C', 'F', 'A', or 'K' instead\n",
      "  after removing the cwd from sys.path.\n",
      "/Users/mallorybrandt/anaconda3/lib/python3.6/site-packages/ipykernel_launcher.py:6: DeprecationWarning: Non-string object detected for the array ordering. Please pass in 'C', 'F', 'A', or 'K' instead\n",
      "  \n",
      "/Users/mallorybrandt/anaconda3/lib/python3.6/site-packages/ipykernel_launcher.py:8: DeprecationWarning: Non-string object detected for the array ordering. Please pass in 'C', 'F', 'A', or 'K' instead\n",
      "  \n",
      "/Users/mallorybrandt/anaconda3/lib/python3.6/site-packages/ipykernel_launcher.py:10: DeprecationWarning: Non-string object detected for the array ordering. Please pass in 'C', 'F', 'A', or 'K' instead\n",
      "  # Remove the CWD from sys.path while we load stuff.\n",
      "/Users/mallorybrandt/anaconda3/lib/python3.6/site-packages/ipykernel_launcher.py:12: DeprecationWarning: Non-string object detected for the array ordering. Please pass in 'C', 'F', 'A', or 'K' instead\n",
      "  if sys.path[0] == '':\n",
      "/Users/mallorybrandt/anaconda3/lib/python3.6/site-packages/ipykernel_launcher.py:14: DeprecationWarning: Non-string object detected for the array ordering. Please pass in 'C', 'F', 'A', or 'K' instead\n",
      "  \n",
      "/Users/mallorybrandt/anaconda3/lib/python3.6/site-packages/ipykernel_launcher.py:16: DeprecationWarning: Non-string object detected for the array ordering. Please pass in 'C', 'F', 'A', or 'K' instead\n",
      "  app.launch_new_instance()\n",
      "/Users/mallorybrandt/anaconda3/lib/python3.6/site-packages/ipykernel_launcher.py:18: DeprecationWarning: Non-string object detected for the array ordering. Please pass in 'C', 'F', 'A', or 'K' instead\n",
      "/Users/mallorybrandt/anaconda3/lib/python3.6/site-packages/ipykernel_launcher.py:20: DeprecationWarning: Non-string object detected for the array ordering. Please pass in 'C', 'F', 'A', or 'K' instead\n"
     ]
    }
   ],
   "source": [
    "categories = []\n",
    "air = mean_airplane_img.flatten(all)\n",
    "categories.append(air)\n",
    "auto = mean_automobile_img.flatten(all)\n",
    "categories.append(auto)\n",
    "bird = mean_bird_img.flatten(all)\n",
    "categories.append(bird)\n",
    "cat = mean_cat_img.flatten(all)\n",
    "categories.append(cat)\n",
    "dog = mean_dog_img.flatten(all)\n",
    "categories.append(dog)\n",
    "deer = mean_deer_img.flatten(all)\n",
    "categories.append(deer)\n",
    "frog = mean_frog_img.flatten(all)\n",
    "categories.append(frog)\n",
    "horse = mean_horse_img.flatten(all)\n",
    "categories.append(horse)\n",
    "ship = mean_ship_img.flatten(all)\n",
    "categories.append(ship)\n",
    "truck = mean_truck_img.flatten(all)\n",
    "categories.append(truck)"
   ]
  },
  {
   "cell_type": "code",
   "execution_count": 16,
   "metadata": {
    "collapsed": true
   },
   "outputs": [],
   "source": [
    "dfcat = pd.DataFrame(categories)"
   ]
  },
  {
   "cell_type": "code",
   "execution_count": 18,
   "metadata": {},
   "outputs": [],
   "source": [
    "from sklearn import manifold\n",
    "from sklearn.manifold import MDS\n",
    "from sklearn.manifold import Isomap"
   ]
  },
  {
   "cell_type": "code",
   "execution_count": 19,
   "metadata": {
    "collapsed": true
   },
   "outputs": [],
   "source": [
    "from sklearn.metrics import euclidean_distances\n",
    "similarities = euclidean_distances(dfcat)"
   ]
  },
  {
   "cell_type": "code",
   "execution_count": 20,
   "metadata": {},
   "outputs": [
    {
     "data": {
      "text/html": [
       "<div>\n",
       "<style>\n",
       "    .dataframe thead tr:only-child th {\n",
       "        text-align: right;\n",
       "    }\n",
       "\n",
       "    .dataframe thead th {\n",
       "        text-align: left;\n",
       "    }\n",
       "\n",
       "    .dataframe tbody tr th {\n",
       "        vertical-align: top;\n",
       "    }\n",
       "</style>\n",
       "<table border=\"1\" class=\"dataframe\">\n",
       "  <thead>\n",
       "    <tr style=\"text-align: right;\">\n",
       "      <th></th>\n",
       "      <th>0</th>\n",
       "      <th>1</th>\n",
       "      <th>2</th>\n",
       "      <th>3</th>\n",
       "      <th>4</th>\n",
       "      <th>5</th>\n",
       "      <th>6</th>\n",
       "      <th>7</th>\n",
       "      <th>8</th>\n",
       "      <th>9</th>\n",
       "    </tr>\n",
       "  </thead>\n",
       "  <tbody>\n",
       "    <tr>\n",
       "      <th>0</th>\n",
       "      <td>0.000000</td>\n",
       "      <td>6.602408</td>\n",
       "      <td>6.294149</td>\n",
       "      <td>7.472610</td>\n",
       "      <td>7.706673</td>\n",
       "      <td>8.426439</td>\n",
       "      <td>9.590799</td>\n",
       "      <td>6.524030</td>\n",
       "      <td>3.707963</td>\n",
       "      <td>5.682661</td>\n",
       "    </tr>\n",
       "    <tr>\n",
       "      <th>1</th>\n",
       "      <td>6.602408</td>\n",
       "      <td>0.000000</td>\n",
       "      <td>3.475402</td>\n",
       "      <td>4.029961</td>\n",
       "      <td>4.768896</td>\n",
       "      <td>4.482634</td>\n",
       "      <td>4.671303</td>\n",
       "      <td>3.728527</td>\n",
       "      <td>5.111566</td>\n",
       "      <td>3.725458</td>\n",
       "    </tr>\n",
       "    <tr>\n",
       "      <th>2</th>\n",
       "      <td>6.294149</td>\n",
       "      <td>3.475402</td>\n",
       "      <td>0.000000</td>\n",
       "      <td>2.028648</td>\n",
       "      <td>2.750825</td>\n",
       "      <td>2.357821</td>\n",
       "      <td>3.583282</td>\n",
       "      <td>1.640285</td>\n",
       "      <td>6.108620</td>\n",
       "      <td>5.555565</td>\n",
       "    </tr>\n",
       "    <tr>\n",
       "      <th>3</th>\n",
       "      <td>7.472610</td>\n",
       "      <td>4.029961</td>\n",
       "      <td>2.028648</td>\n",
       "      <td>0.000000</td>\n",
       "      <td>1.616383</td>\n",
       "      <td>1.842302</td>\n",
       "      <td>2.656800</td>\n",
       "      <td>2.338712</td>\n",
       "      <td>7.259585</td>\n",
       "      <td>6.574350</td>\n",
       "    </tr>\n",
       "    <tr>\n",
       "      <th>4</th>\n",
       "      <td>7.706673</td>\n",
       "      <td>4.768896</td>\n",
       "      <td>2.750825</td>\n",
       "      <td>1.616383</td>\n",
       "      <td>0.000000</td>\n",
       "      <td>2.422317</td>\n",
       "      <td>3.249301</td>\n",
       "      <td>3.308488</td>\n",
       "      <td>7.441458</td>\n",
       "      <td>7.373464</td>\n",
       "    </tr>\n",
       "    <tr>\n",
       "      <th>5</th>\n",
       "      <td>8.426439</td>\n",
       "      <td>4.482634</td>\n",
       "      <td>2.357821</td>\n",
       "      <td>1.842302</td>\n",
       "      <td>2.422317</td>\n",
       "      <td>0.000000</td>\n",
       "      <td>1.805901</td>\n",
       "      <td>2.683694</td>\n",
       "      <td>8.100391</td>\n",
       "      <td>7.179340</td>\n",
       "    </tr>\n",
       "    <tr>\n",
       "      <th>6</th>\n",
       "      <td>9.590799</td>\n",
       "      <td>4.671303</td>\n",
       "      <td>3.583282</td>\n",
       "      <td>2.656800</td>\n",
       "      <td>3.249301</td>\n",
       "      <td>1.805901</td>\n",
       "      <td>0.000000</td>\n",
       "      <td>3.720370</td>\n",
       "      <td>8.820295</td>\n",
       "      <td>7.502865</td>\n",
       "    </tr>\n",
       "    <tr>\n",
       "      <th>7</th>\n",
       "      <td>6.524030</td>\n",
       "      <td>3.728527</td>\n",
       "      <td>1.640285</td>\n",
       "      <td>2.338712</td>\n",
       "      <td>3.308488</td>\n",
       "      <td>2.683694</td>\n",
       "      <td>3.720370</td>\n",
       "      <td>0.000000</td>\n",
       "      <td>6.510777</td>\n",
       "      <td>5.283631</td>\n",
       "    </tr>\n",
       "    <tr>\n",
       "      <th>8</th>\n",
       "      <td>3.707963</td>\n",
       "      <td>5.111566</td>\n",
       "      <td>6.108620</td>\n",
       "      <td>7.259585</td>\n",
       "      <td>7.441458</td>\n",
       "      <td>8.100391</td>\n",
       "      <td>8.820295</td>\n",
       "      <td>6.510777</td>\n",
       "      <td>0.000000</td>\n",
       "      <td>4.184040</td>\n",
       "    </tr>\n",
       "    <tr>\n",
       "      <th>9</th>\n",
       "      <td>5.682661</td>\n",
       "      <td>3.725458</td>\n",
       "      <td>5.555565</td>\n",
       "      <td>6.574350</td>\n",
       "      <td>7.373464</td>\n",
       "      <td>7.179340</td>\n",
       "      <td>7.502865</td>\n",
       "      <td>5.283631</td>\n",
       "      <td>4.184040</td>\n",
       "      <td>0.000000</td>\n",
       "    </tr>\n",
       "  </tbody>\n",
       "</table>\n",
       "</div>"
      ],
      "text/plain": [
       "          0         1         2         3         4         5         6  \\\n",
       "0  0.000000  6.602408  6.294149  7.472610  7.706673  8.426439  9.590799   \n",
       "1  6.602408  0.000000  3.475402  4.029961  4.768896  4.482634  4.671303   \n",
       "2  6.294149  3.475402  0.000000  2.028648  2.750825  2.357821  3.583282   \n",
       "3  7.472610  4.029961  2.028648  0.000000  1.616383  1.842302  2.656800   \n",
       "4  7.706673  4.768896  2.750825  1.616383  0.000000  2.422317  3.249301   \n",
       "5  8.426439  4.482634  2.357821  1.842302  2.422317  0.000000  1.805901   \n",
       "6  9.590799  4.671303  3.583282  2.656800  3.249301  1.805901  0.000000   \n",
       "7  6.524030  3.728527  1.640285  2.338712  3.308488  2.683694  3.720370   \n",
       "8  3.707963  5.111566  6.108620  7.259585  7.441458  8.100391  8.820295   \n",
       "9  5.682661  3.725458  5.555565  6.574350  7.373464  7.179340  7.502865   \n",
       "\n",
       "          7         8         9  \n",
       "0  6.524030  3.707963  5.682661  \n",
       "1  3.728527  5.111566  3.725458  \n",
       "2  1.640285  6.108620  5.555565  \n",
       "3  2.338712  7.259585  6.574350  \n",
       "4  3.308488  7.441458  7.373464  \n",
       "5  2.683694  8.100391  7.179340  \n",
       "6  3.720370  8.820295  7.502865  \n",
       "7  0.000000  6.510777  5.283631  \n",
       "8  6.510777  0.000000  4.184040  \n",
       "9  5.283631  4.184040  0.000000  "
      ]
     },
     "execution_count": 20,
     "metadata": {},
     "output_type": "execute_result"
    }
   ],
   "source": [
    "mds = MDS(n_components=10, n_init=10, max_iter=300)\n",
    "manifold2D = mds.fit_transform(dfcat)\n",
    "df2 = pd.DataFrame(similarities)\n",
    "df2"
   ]
  },
  {
   "cell_type": "code",
   "execution_count": null,
   "metadata": {
    "collapsed": true
   },
   "outputs": [],
   "source": [
    " "
   ]
  }
 ],
 "metadata": {
  "kernelspec": {
   "display_name": "Python 3",
   "language": "python",
   "name": "python3"
  },
  "language_info": {
   "codemirror_mode": {
    "name": "ipython",
    "version": 3
   },
   "file_extension": ".py",
   "mimetype": "text/x-python",
   "name": "python",
   "nbconvert_exporter": "python",
   "pygments_lexer": "ipython3",
   "version": "3.6.3"
  }
 },
 "nbformat": 4,
 "nbformat_minor": 2
}
