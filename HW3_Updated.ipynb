{
 "cells": [
  {
   "cell_type": "code",
   "execution_count": 1,
   "metadata": {
    "collapsed": true
   },
   "outputs": [],
   "source": [
    "%matplotlib inline\n",
    "from scipy.misc import toimage"
   ]
  },
  {
   "cell_type": "code",
   "execution_count": 2,
   "metadata": {
    "collapsed": true
   },
   "outputs": [],
   "source": [
    "import numpy as np\n",
    "import pandas as pd\n",
    "import matplotlib.pyplot as plt\n",
    "\n",
    "def unpickle(file):\n",
    "    import pickle\n",
    "    with open(file, 'rb') as fo:\n",
    "        dict = pickle.load(fo, encoding='bytes')\n",
    "    return dict"
   ]
  },
  {
   "cell_type": "code",
   "execution_count": 3,
   "metadata": {
    "collapsed": true
   },
   "outputs": [],
   "source": [
    "#unpickle function shared by @ptsap2 on Slack\n",
    "def unpack(batch):\n",
    "    dataBatch = unpickle(batch)\n",
    "    dataBatchX = pd.DataFrame(dataBatch[b'data'])\n",
    "    dataBatchY = pd.DataFrame(dataBatch[b'labels'])\n",
    "    dataBatchX['labels'] = dataBatchY\n",
    "    return dataBatchX"
   ]
  },
  {
   "cell_type": "code",
   "execution_count": 4,
   "metadata": {
    "collapsed": true
   },
   "outputs": [],
   "source": [
    "data1 = unpack('data_batch_1')\n",
    "data2 = unpack('data_batch_2')\n",
    "data3 = unpack('data_batch_3')\n",
    "data4 = unpack('data_batch_4')\n",
    "data5 = unpack('data_batch_5')\n",
    "data6 = unpack('test_batch')"
   ]
  },
  {
   "cell_type": "code",
   "execution_count": 5,
   "metadata": {
    "collapsed": true
   },
   "outputs": [],
   "source": [
    "data = pd.concat([data1, data2, data3, data4, data5, data6])"
   ]
  },
  {
   "cell_type": "code",
   "execution_count": 6,
   "metadata": {},
   "outputs": [
    {
     "data": {
      "text/plain": [
       "(60000, 3073)"
      ]
     },
     "execution_count": 6,
     "metadata": {},
     "output_type": "execute_result"
    }
   ],
   "source": [
    "data.shape"
   ]
  },
  {
   "cell_type": "code",
   "execution_count": 7,
   "metadata": {},
   "outputs": [
    {
     "data": {
      "text/plain": [
       "(60000, 1)"
      ]
     },
     "execution_count": 7,
     "metadata": {},
     "output_type": "execute_result"
    }
   ],
   "source": [
    "labels = pd.DataFrame(data['labels'])\n",
    "labels.shape"
   ]
  },
  {
   "cell_type": "code",
   "execution_count": 8,
   "metadata": {
    "collapsed": true
   },
   "outputs": [],
   "source": [
    "def changeFeaturesType(data):\n",
    "    global X\n",
    "    X = data.drop(labels = [\"labels\"],axis = 1) \n",
    "    X = X.astype('float32')\n",
    "    X = pd.DataFrame(X)\n",
    "    print(X.shape)"
   ]
  },
  {
   "cell_type": "code",
   "execution_count": 9,
   "metadata": {
    "collapsed": true
   },
   "outputs": [],
   "source": [
    "def drawOrigImg(X):\n",
    "    imgX = np.array(X)\n",
    "    imgX.shape\n",
    "    imgX = imgX.reshape(-1, 3, 32, 32)\n",
    "    plt.imshow(toimage(imgX[4]))"
   ]
  },
  {
   "cell_type": "code",
   "execution_count": 10,
   "metadata": {},
   "outputs": [
    {
     "name": "stdout",
     "output_type": "stream",
     "text": [
      "(60000, 3072)\n"
     ]
    },
    {
     "data": {
      "image/png": "[encoded data removed]",
      "text/plain": [
       "<matplotlib.figure.Figure at 0x10e37fba8>"
      ]
     },
     "metadata": {},
     "output_type": "display_data"
    }
   ],
   "source": [
    "changeFeaturesType(data)\n",
    "drawOrigImg(X)"
   ]
  },
  {
   "cell_type": "code",
   "execution_count": 11,
   "metadata": {
    "collapsed": true
   },
   "outputs": [],
   "source": [
    "def addLabelsBack(X):\n",
    "    X['labels'] = labels\n",
    "    print(X.head())"
   ]
  },
  {
   "cell_type": "code",
   "execution_count": 12,
   "metadata": {},
   "outputs": [
    {
     "name": "stdout",
     "output_type": "stream",
     "text": [
      "       0      1      2      3      4      5      6      7      8      9  \\\n",
      "0   59.0   43.0   50.0   68.0   98.0  119.0  139.0  145.0  149.0  149.0   \n",
      "1  154.0  126.0  105.0  102.0  125.0  155.0  172.0  180.0  142.0  111.0   \n",
      "2  255.0  253.0  253.0  253.0  253.0  253.0  253.0  253.0  253.0  253.0   \n",
      "3   28.0   37.0   38.0   42.0   44.0   40.0   40.0   24.0   32.0   43.0   \n",
      "4  170.0  168.0  177.0  183.0  181.0  177.0  181.0  184.0  189.0  189.0   \n",
      "\n",
      "    ...    3063  3064   3065   3066   3067   3068   3069   3070   3071  labels  \n",
      "0   ...    58.0  65.0   59.0   46.0   57.0  104.0  140.0   84.0   72.0       6  \n",
      "1   ...    42.0  67.0  101.0  122.0  133.0  136.0  139.0  142.0  144.0       9  \n",
      "2   ...    83.0  80.0   69.0   66.0   72.0   79.0   83.0   83.0   84.0       9  \n",
      "3   ...    39.0  59.0   42.0   44.0   48.0   38.0   28.0   37.0   46.0       4  \n",
      "4   ...    88.0  85.0   82.0   83.0   79.0   78.0   82.0   78.0   80.0       1  \n",
      "\n",
      "[5 rows x 3073 columns]\n"
     ]
    }
   ],
   "source": [
    "addLabelsBack(X)"
   ]
  },
  {
   "cell_type": "code",
   "execution_count": 13,
   "metadata": {
    "collapsed": true
   },
   "outputs": [],
   "source": [
    "airplane = (X.loc[data['labels'] == 0])\n",
    "automobile = (X.loc[data['labels'] == 1])\n",
    "bird = (X.loc[data['labels'] == 2])\n",
    "cat = (X.loc[data['labels'] == 3])\n",
    "deer = (X.loc[data['labels'] == 4])\n",
    "dog = (X.loc[data['labels'] == 5])\n",
    "frog = (X.loc[data['labels'] == 6])\n",
    "horse = (X.loc[data['labels'] == 7])\n",
    "ship = (X.loc[data['labels'] == 8])\n",
    "truck = (X.loc[data['labels'] == 9])"
   ]
  },
  {
   "cell_type": "code",
   "execution_count": 14,
   "metadata": {
    "collapsed": true
   },
   "outputs": [],
   "source": [
    "from sklearn.decomposition import PCA\n",
    "pca = PCA(n_components=20)"
   ]
  },
  {
   "cell_type": "code",
   "execution_count": 15,
   "metadata": {
    "collapsed": true
   },
   "outputs": [],
   "source": [
    "def getPCA(category):\n",
    "    xy = pd.DataFrame(category)\n",
    "    features = xy.drop(labels = ['labels'],axis=1 )\n",
    "    pca.fit(features)\n",
    "    components = pca.transform(features)\n",
    "    df = pd.DataFrame(components)\n",
    "    invTransform(components)"
   ]
  },
  {
   "cell_type": "code",
   "execution_count": 16,
   "metadata": {
    "collapsed": true
   },
   "outputs": [],
   "source": [
    "def invTransform(components):\n",
    "    projected = pca.inverse_transform(components)\n",
    "    projected = pd.DataFrame(projected)\n",
    "    projected = np.array(projected)\n",
    "    drawNewImgs(projected)\n",
    "    #print(projected.shape)"
   ]
  },
  {
   "cell_type": "code",
   "execution_count": 17,
   "metadata": {
    "collapsed": true
   },
   "outputs": [],
   "source": [
    "def drawNewImgs(projected):\n",
    "    plt.figure(figsize=(2.5,10))\n",
    "    plt.imshow(toimage(projected[0].reshape(3, 32,32))) "
   ]
  },
  {
   "cell_type": "code",
   "execution_count": 18,
   "metadata": {},
   "outputs": [
    {
     "data": {
      "image/png": "[encoded data removed]",
      "text/plain": [
       "<matplotlib.figure.Figure at 0x116abb6a0>"
      ]
     },
     "metadata": {},
     "output_type": "display_data"
    },
    {
     "data": {
      "image/png": "[encoded data removed]",
      "text/plain": [
       "<matplotlib.figure.Figure at 0x116b440b8>"
      ]
     },
     "metadata": {},
     "output_type": "display_data"
    },
    {
     "data": {
      "image/png": "[encoded data removed]",
      "text/plain": [
       "<matplotlib.figure.Figure at 0x183db49860>"
      ]
     },
     "metadata": {},
     "output_type": "display_data"
    },
    {
     "data": {
      "image/png": "[encoded data removed]",
      "text/plain": [
       "<matplotlib.figure.Figure at 0x1a9835c5f8>"
      ]
     },
     "metadata": {},
     "output_type": "display_data"
    },
    {
     "data": {
      "image/png": "[encoded data removed]",
      "text/plain": [
       "<matplotlib.figure.Figure at 0x1a9839c400>"
      ]
     },
     "metadata": {},
     "output_type": "display_data"
    },
    {
     "data": {
      "image/png": "[encoded data removed]",
      "text/plain": [
       "<matplotlib.figure.Figure at 0x1a983e1048>"
      ]
     },
     "metadata": {},
     "output_type": "display_data"
    },
    {
     "data": {
      "image/png": "[encoded data removed]",
      "text/plain": [
       "<matplotlib.figure.Figure at 0x1a9840b7f0>"
      ]
     },
     "metadata": {},
     "output_type": "display_data"
    },
    {
     "data": {
      "image/png": "[encoded data removed]",
      "text/plain": [
       "<matplotlib.figure.Figure at 0x1a9844d278>"
      ]
     },
     "metadata": {},
     "output_type": "display_data"
    },
    {
     "data": {
      "image/png": "[encoded data removed]",
      "text/plain": [
       "<matplotlib.figure.Figure at 0x1a98486e80>"
      ]
     },
     "metadata": {},
     "output_type": "display_data"
    },
    {
     "data": {
      "image/png": "[encoded data removed]",
      "text/plain": [
       "<matplotlib.figure.Figure at 0x1a984c6a58>"
      ]
     },
     "metadata": {},
     "output_type": "display_data"
    }
   ],
   "source": [
    "getPCA(airplane)\n",
    "getPCA(automobile)\n",
    "getPCA(bird)\n",
    "getPCA(cat)\n",
    "getPCA(deer)\n",
    "getPCA(dog)\n",
    "getPCA(frog)\n",
    "getPCA(horse)\n",
    "getPCA(ship)\n",
    "getPCA(truck)"
   ]
  },
  {
   "cell_type": "code",
   "execution_count": null,
   "metadata": {
    "collapsed": true
   },
   "outputs": [],
   "source": [
    "#using pca's explained_variance_ per @slackrw's comment on Slack and with assistance of Curt F: https://stackoverflow.com/questions/32857029/python-scikit-learn-pca-explained-variance-ratio-cutoff\n",
    "hist = []\n",
    "\n",
    "def calcError(pcaComponents):\n",
    "    pca = PCA(n_components=3072)\n",
    "    xy = pd.DataFrame(pcaComponents)\n",
    "    features = xy.drop(labels = ['labels'],axis=1)\n",
    "    pca.fit(features)\n",
    "    components = pca.transform(features)\n",
    "    pca.inverse_transform(components)\n",
    "    var = pca.explained_variance_\n",
    "    varDF = pd.DataFrame(var)\n",
    "    varPlot = var[20:3071]\n",
    "    varPlot = pd.DataFrame(varPlot)\n",
    "    global sumVar\n",
    "    sumVar = sum(varPlot.values)\n",
    "    hist.append(sumVar)"
   ]
  },
  {
   "cell_type": "code",
   "execution_count": null,
   "metadata": {},
   "outputs": [],
   "source": [
    "calcError(airplane)\n",
    "calcError(automobile)\n",
    "calcError(bird)\n",
    "calcError(cat)\n",
    "calcError(deer)\n",
    "calcError(dog)\n",
    "calcError(frog)\n",
    "calcError(horse)\n",
    "calcError(ship)\n",
    "calcError(truck)\n",
    "print(hist)"
   ]
  },
  {
   "cell_type": "code",
   "execution_count": null,
   "metadata": {
    "collapsed": true
   },
   "outputs": [],
   "source": [
    "def plotBarChart(hist):\n",
    "    hist = pd.DataFrame(hist)\n",
    "    labels = ['airplane', 'automobile', 'bird', 'cat' ,'dog', 'deer', 'frog', 'horse', 'ship', 'truck']\n",
    "    labels = pd.DataFrame(labels)\n",
    "    hist['labels'] = labels\n",
    "    row = hist.iloc[:]\n",
    "    row.index = hist['labels']\n",
    "    row.plot(kind='bar', figsize=[30,10], fontsize=30)"
   ]
  },
  {
   "cell_type": "code",
   "execution_count": null,
   "metadata": {},
   "outputs": [],
   "source": [
    "plotBarChart(hist)"
   ]
  },
  {
   "cell_type": "code",
   "execution_count": null,
   "metadata": {
    "collapsed": true
   },
   "outputs": [],
   "source": []
  }
 ],
 "metadata": {
  "kernelspec": {
   "display_name": "Python 3",
   "language": "python",
   "name": "python3"
  },
  "language_info": {
   "codemirror_mode": {
    "name": "ipython",
    "version": 3
   },
   "file_extension": ".py",
   "mimetype": "text/x-python",
   "name": "python",
   "nbconvert_exporter": "python",
   "pygments_lexer": "ipython3",
   "version": "3.6.3"
  }
 },
 "nbformat": 4,
 "nbformat_minor": 1
}
